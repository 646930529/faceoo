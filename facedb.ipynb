{
 "cells": [
  {
   "cell_type": "code",
   "execution_count": 1,
   "metadata": {},
   "outputs": [],
   "source": [
    "import numpy as np\n",
    "\n",
    "class facedb:\n",
    "    def __init__(self, dbid):\n",
    "        self.dbid = dbid\n",
    "        self.zerof = [0] * 2\n",
    "        self.fs = [self.zerof] * 100\n",
    "        self.ids = [None] * 100\n",
    "\n",
    "    def add(self, _f, _id):\n",
    "        if None in self.ids:\n",
    "            pass\n",
    "        else:\n",
    "            print(self.dbid, ': add ids is full !!!')\n",
    "            return -1\n",
    "        addi = self.ids.index(None)\n",
    "        self.fs[addi] = _f\n",
    "        self.ids[addi] = _id\n",
    "        return 0\n",
    "\n",
    "    def delete(self, _id):\n",
    "        if _id in self.ids:\n",
    "            pass\n",
    "        else:\n",
    "            pass\n",
    "        deletei = self.ids.index(_id)\n",
    "        self.fs[deletei] = self.zerof\n",
    "        self.ids[deletei] = None\n",
    "        return 0\n",
    "\n",
    "    def ovn(self, _f, _c=5):\n",
    "        fst = np.array(self.fs).T\n",
    "        r = np.dot(_f, fst)\n",
    "        index = np.argsort(-r)[:_c]\n",
    "        return [[self.ids[i],r[i]] for i in index]\n"
   ]
  },
  {
   "cell_type": "code",
   "execution_count": 2,
   "metadata": {
    "scrolled": true
   },
   "outputs": [
    {
     "name": "stdout",
     "output_type": "stream",
     "text": [
      "db1 : add ids is full !!!\n"
     ]
    },
    {
     "data": {
      "text/plain": [
       "[['id99', 99.1],\n",
       " ['id97', 97.1],\n",
       " ['id96', 96.1],\n",
       " ['id95', 95.1],\n",
       " ['id94', 94.1]]"
      ]
     },
     "execution_count": 2,
     "metadata": {},
     "output_type": "execute_result"
    }
   ],
   "source": [
    "db1 = facedb('db1')\n",
    "for i in range(101):\n",
    "    db1.add([i,0.1], 'id' + str(i))\n",
    "db1.delete('id98')\n",
    "db1.ovn([1,1])"
   ]
  }
 ],
 "metadata": {
  "kernelspec": {
   "display_name": "Python 3",
   "language": "python",
   "name": "python3"
  },
  "language_info": {
   "codemirror_mode": {
    "name": "ipython",
    "version": 3
   },
   "file_extension": ".py",
   "mimetype": "text/x-python",
   "name": "python",
   "nbconvert_exporter": "python",
   "pygments_lexer": "ipython3",
   "version": "3.7.6"
  }
 },
 "nbformat": 4,
 "nbformat_minor": 4
}
